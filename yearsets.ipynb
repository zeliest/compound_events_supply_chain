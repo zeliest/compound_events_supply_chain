{
 "cells": [
  {
   "cell_type": "code",
   "execution_count": 2,
   "id": "662c4bdb",
   "metadata": {},
   "outputs": [],
   "source": [
    "from climada.util.api_client import Client\n",
    "from climada_petals.engine import SupplyChain\n",
    "from climada.entity import ImpfSetTropCyclone, ImpactFuncSet\n",
    "from climada.engine.impact_calc import ImpactCalc\n",
    "from climada.hazard import Hazard\n",
    "import datetime\n",
    "import numpy as np\n",
    "client = Client()"
   ]
  },
  {
   "cell_type": "code",
   "execution_count": 3,
   "id": "ce929ab6",
   "metadata": {},
   "outputs": [
    {
     "name": "stdout",
     "output_type": "stream",
     "text": [
      "https://climada.ethz.ch/data-api/v1/dataset\tdata_type=tropical_cyclone\tlimit=100000\tname=tropical_cyclone_10synth_tracks_150arcsec_genesis_WP_1980_2020\tstatus=active\tversion=None\n",
      "https://climada.ethz.ch/data-api/v1/dataset\tdata_type=tropical_cyclone\tlimit=100000\tname=tropical_cyclone_10synth_tracks_150arcsec_genesis_NA_1980_2020\tstatus=active\tversion=None\n"
     ]
    }
   ],
   "source": [
    "# we get probabilistic tc for WP and NA\n",
    "tc_wp_prob = client.get_hazard('tropical_cyclone', name='tropical_cyclone_10synth_tracks_150arcsec_genesis_WP_1980_2020')\n",
    "tc_na_prob = client.get_hazard('tropical_cyclone', name='tropical_cyclone_10synth_tracks_150arcsec_genesis_NA_1980_2020')"
   ]
  },
  {
   "cell_type": "code",
   "execution_count": 4,
   "id": "e62033c3",
   "metadata": {},
   "outputs": [
    {
     "name": "stdout",
     "output_type": "stream",
     "text": [
      "https://climada.ethz.ch/data-api/v1/dataset\tdata_type=litpop\texponents=(1,1)\tlimit=100000\tname=None\tspatial_coverage=global\tstatus=active\tversion=None\n"
     ]
    },
    {
     "name": "stderr",
     "output_type": "stream",
     "text": [
      "/Users/szelie/miniconda3/envs/climada_boario_env/lib/python3.9/pickle.py:1717: UserWarning: Unpickling a shapely <2.0 geometry object. Please save the pickle again; shapely 2.1 will not have this compatibility.\n",
      "  setstate(state)\n"
     ]
    }
   ],
   "source": [
    "assets = client.get_litpop()"
   ]
  },
  {
   "cell_type": "code",
   "execution_count": 5,
   "id": "b15998d0",
   "metadata": {},
   "outputs": [
    {
     "name": "stdout",
     "output_type": "stream",
     "text": [
      "2023-05-26 17:46:52,969 - climada.util.coordinates - WARNING - Distance to closest centroid is greater than 100km for 6368468 coordinates.\n",
      "2023-05-26 17:47:14,627 - climada.util.coordinates - WARNING - Distance to closest centroid is greater than 100km for 7549716 coordinates.\n",
      "2023-05-26 17:47:15,017 - climada.util.coordinates - WARNING - Distance to closest centroid is greater than 100km for 7249 coordinates.\n"
     ]
    }
   ],
   "source": [
    "def get_impf_id(cnt):\n",
    "    for basin, iso_list in ImpfSetTropCyclone.get_countries_per_region()[2].items():\n",
    "        for iso in iso_list:\n",
    "            if iso == cnt:\n",
    "                return basin, ImpfSetTropCyclone.get_countries_per_region()[1][basin]\n",
    "            \n",
    "impf_TC = ImpfSetTropCyclone.from_calibrated_regional_ImpfSet()\n",
    "\n",
    "assets.gdf['impf_TC'] = 1\n",
    "\n",
    "for cnt in np.unique(assets.gdf.region_id):\n",
    "    assets.gdf.loc[assets.gdf['region_id']==cnt, 'impf_TC'] = get_impf_id(int(cnt))[1]\n",
    "\n",
    "# impact calculation, already selecting the date\n",
    "imp_calc = ImpactCalc(assets, impf_TC, tc_na_prob)\n",
    "direct_impact_na = imp_calc.impact(save_mat=True)  \n",
    "\n",
    "imp_calc = ImpactCalc(assets, impf_TC, tc_wp_prob)\n",
    "direct_impact_wp = imp_calc.impact(save_mat=True) "
   ]
  },
  {
   "cell_type": "code",
   "execution_count": 43,
   "id": "41febbe5",
   "metadata": {},
   "outputs": [],
   "source": [
    "from climada.util import yearsets\n",
    "def make_yearset(impact_dict, n_years):\n",
    "    \"\"\"\n",
    "    Parameters\n",
    "    ----------\n",
    "    impact_dict : dict of Impact\n",
    "        dictionary of impacts\n",
    "    n_years : number of years\n",
    "\n",
    "    Returns\n",
    "    -------\n",
    "    imp : dict\n",
    "        \n",
    "    \"\"\"\n",
    "    years = np.arange(1, n_years+1)\n",
    "    yearset_dict = {}\n",
    "    for impact in impact_dict:\n",
    "        lam = np.sum(impact_dict[impact].frequency)\n",
    "        lam = np.round(lam, 10)\n",
    "        events_per_year = yearsets.sample_from_poisson(len(years), lam)\n",
    "        sampling_vect = yearsets.sample_events(events_per_year, impact_dict[impact].frequency)\n",
    "        yearset = yearsets.impact_from_sample(impact_dict[impact], years, sampling_vect)\n",
    "        yearset_dict[impact] = yearset\n",
    "    return yearset_dict"
   ]
  },
  {
   "cell_type": "code",
   "execution_count": 45,
   "id": "fa559979",
   "metadata": {},
   "outputs": [],
   "source": [
    "def set_imp_mat(impact, imp_mat):\n",
    "    \"\"\"\n",
    "    Set Impact attributes from the impact matrix. Returns a copy.\n",
    "    Overwrites eai_exp, at_event, aai_agg, imp_mat\n",
    "\n",
    "    Parameters\n",
    "    ----------\n",
    "    impact: Impact\n",
    "    imp_mat : sparse.csr_matrix\n",
    "        matrix num_events x num_exp with impacts.\n",
    "    Returns\n",
    "    -------\n",
    "    imp : Impact\n",
    "        Copy of impact with eai_exp, at_event, aai_agg, imp_mat set.\n",
    "    \"\"\"\n",
    "    imp = copy.deepcopy(impact)\n",
    "    imp.at_event, imp.eai_exp, imp.aai_agg = ImpactCalc.risk_metrics(imp_mat, imp.frequency)\n",
    "    imp.imp_mat = imp_mat\n",
    "    return imp\n"
   ]
  },
  {
   "cell_type": "code",
   "execution_count": 40,
   "id": "e1b0c1e7",
   "metadata": {},
   "outputs": [],
   "source": [
    "from climada.util import yearsets, coordinates\n",
    "\n",
    "import pycountry\n",
    "\n",
    "# create n years of impacts by sampling events based on the expected number of events. This is\n",
    "# done per basin\n",
    "def yearset_impact(direct_impact_wp, direct_impact_na, countries_num, n_years):\n",
    "    \n",
    "    impact_dict = {'wp':direct_impact_wp, 'na':direct_impact_na}\n",
    "    ys = make_yearset(impact_dict, n_years)\n",
    "    imp_mat = sparse.vstack([ys['wp'].imp_mat,ys['na'].imp_mat])\n",
    "    imp = Impact()\n",
    "    imp.frequency = np.hstack([ys['wp'].frequency, ys['na'].frequency])\n",
    "    imp.date = np.hstack([ys['wp'].date, ys['na'].date])\n",
    "    imp.event_id = np.hstack([ys['wp'].event_id, (ys['na'].event_id+np.max(ys['wp'].event_id))])\n",
    "    imp = set_imp_mat(imp, imp_mat)\n",
    "    imp.coord_exp = direct_impact_wp.coord_exp\n",
    "    imp = imp.select(event_ids = imp.event_id[imp.at_event>1e8])\n",
    "    country_matrices = {country: np.array([imp.imp_mat[:, countries_num == countries[country]].sum(axis=1).flatten()])\n",
    "                    for country in countries}\n",
    "    \n",
    "    years = [datetime.date.fromordinal(date).year for date in imp.date]\n",
    "    country_year_impact = {year: {country: country_matrices[country][0][0][years==year].sum()\\\n",
    "                              for country in countries} for year in np.unique(years)}\n",
    "  \n",
    "    n_countries_per_year = {year:np.sum([np.array(list(country_year_impact[year].values()))>1e8]) for year in years}\n",
    "    \n",
    "\n",
    "    return (imp, country_year_impact, n_countries_per_year, imp.aai_agg)\n",
    "\n"
   ]
  },
  {
   "cell_type": "code",
   "execution_count": null,
   "id": "a37b8e8f",
   "metadata": {},
   "outputs": [],
   "source": [
    "from climada.util import yearsets, coordinates\n",
    "lat = np.array([lat for lat,lon in direct_impact_wp.coord_exp])\n",
    "lon = np.array([lon for lat,lon in direct_impact_wp.coord_exp])\n",
    "countries_num = coordinates.get_country_code(lat, lon)\n",
    "countries_num = np.array([format(num, '03d') for num in countries_num])\n"
   ]
  },
  {
   "cell_type": "code",
   "execution_count": 47,
   "id": "5bc064a5",
   "metadata": {
    "scrolled": true
   },
   "outputs": [],
   "source": [
    "from scipy import sparse\n",
    "from climada.engine import Impact\n",
    "import copy\n",
    "countries = ['USA', 'TWN', 'JPN','CHN','MEX'] # we could chose more countries\n",
    "countries = {country:pycountry.countries.lookup(country).numeric for country in countries}\n",
    "\n",
    "# 100 time 5 years, date start at year 1\n",
    "yearsets_samples = [yearset_impact(direct_impact_wp, direct_impact_na, countries_num) for n in range(0,100)]"
   ]
  },
  {
   "cell_type": "code",
   "execution_count": 48,
   "id": "73d66441",
   "metadata": {},
   "outputs": [],
   "source": [
    "n_countries_score = [np.sum(list(yearsets_samples[n][2].values())) for n in range(len(yearsets_samples))]\n",
    "\n",
    "aai = [yearsets_samples[n][3] for n in range(len(yearsets_samples))]"
   ]
  },
  {
   "cell_type": "code",
   "execution_count": 49,
   "id": "545fb23d",
   "metadata": {
    "scrolled": true
   },
   "outputs": [
    {
     "data": {
      "text/plain": [
       "array([44, 80, 33, 91, 27, 13,  6, 42, 68, 43, 77,  0,  4, 97, 48, 36, 89,\n",
       "       85, 57, 51, 83, 66, 67, 69, 70, 72, 79, 45, 30, 39,  7, 29, 23,  5,\n",
       "       18, 93, 84, 92, 56, 53, 52, 65, 16,  8, 46, 54, 71, 40, 38, 87, 88,\n",
       "       25, 26, 61, 73, 11, 95, 64, 75, 81,  1, 82, 28, 15, 50, 47, 20, 90,\n",
       "       60, 55, 98, 94,  9, 17, 19, 41, 21, 32, 78, 49, 74,  2, 10, 12, 24,\n",
       "       34, 35, 31, 37, 59, 62, 76,  3, 96, 58, 22, 63, 86, 99, 14])"
      ]
     },
     "execution_count": 49,
     "metadata": {},
     "output_type": "execute_result"
    }
   ],
   "source": [
    "np.argsort(n_countries_score) # if we want to sort by number of countries affected"
   ]
  },
  {
   "cell_type": "code",
   "execution_count": 26,
   "id": "6a909e9e",
   "metadata": {},
   "outputs": [
    {
     "data": {
      "text/plain": [
       "array([17, 57, 43, 22,  3, 89, 16, 61, 68, 11, 53, 20, 15, 23, 13, 59, 73,\n",
       "       42, 25, 66, 74, 10, 26, 90, 56, 60, 33, 86, 12,  7, 41, 92, 75, 81,\n",
       "       29, 30, 55, 49, 64, 46, 45, 62,  9, 98, 38, 87, 35, 83, 84, 95, 27,\n",
       "        4,  2,  8,  0, 82, 24, 78, 37, 54, 80, 39, 40, 79, 31,  6, 32, 94,\n",
       "       99, 72, 63, 50,  1, 47, 67, 71, 52, 34, 97, 91, 14, 36, 85, 21, 76,\n",
       "       93, 69, 18, 58, 44, 48, 70, 28, 65, 77, 51, 96,  5, 88, 19])"
      ]
     },
     "execution_count": 26,
     "metadata": {},
     "output_type": "execute_result"
    }
   ],
   "source": [
    "np.argsort(aai)"
   ]
  },
  {
   "cell_type": "code",
   "execution_count": 56,
   "id": "857ebf32",
   "metadata": {
    "collapsed": true
   },
   "outputs": [
    {
     "data": {
      "text/plain": [
       "(<climada.engine.impact.Impact at 0x212f0fbe0>,\n",
       " {1: {'USA': 767517321.1895669,\n",
       "   'TWN': 271845158.38367134,\n",
       "   'JPN': 1852033959.6464958,\n",
       "   'CHN': 1452396544.1683815,\n",
       "   'MEX': 3661801933.0921197},\n",
       "  2: {'USA': 7906306468.427833,\n",
       "   'TWN': 0.0,\n",
       "   'JPN': 489304284.4049791,\n",
       "   'CHN': 0.0,\n",
       "   'MEX': 0.0},\n",
       "  3: {'USA': 18528751.866413046,\n",
       "   'TWN': 0.0,\n",
       "   'JPN': 344452704.6426222,\n",
       "   'CHN': 0.0,\n",
       "   'MEX': 0.0},\n",
       "  4: {'USA': 1068230868.3723637,\n",
       "   'TWN': 609581285.6157476,\n",
       "   'JPN': 439258833.08002436,\n",
       "   'CHN': 505326469.68075377,\n",
       "   'MEX': 0.0},\n",
       "  5: {'USA': 1700628943.9928164,\n",
       "   'TWN': 0.0,\n",
       "   'JPN': 4552701246.37023,\n",
       "   'CHN': 1306007047.7022767,\n",
       "   'MEX': 0.0}},\n",
       " {1: 5, 2: 2, 3: 1, 4: 4, 5: 3},\n",
       " 7046794846.994061)"
      ]
     },
     "execution_count": 56,
     "metadata": {},
     "output_type": "execute_result"
    }
   ],
   "source": [
    "yearsets_samples[89]"
   ]
  },
  {
   "cell_type": "code",
   "execution_count": 59,
   "id": "ad4eede4",
   "metadata": {},
   "outputs": [
    {
     "data": {
      "text/plain": [
       "89"
      ]
     },
     "execution_count": 59,
     "metadata": {},
     "output_type": "execute_result"
    }
   ],
   "source": [
    "np.argsort(aai)[0]"
   ]
  },
  {
   "cell_type": "code",
   "execution_count": 62,
   "id": "e4ea42a5",
   "metadata": {},
   "outputs": [
    {
     "data": {
      "text/plain": [
       "(<climada.engine.impact.Impact at 0x212f0fbe0>,\n",
       " {1: {'USA': 767517321.1895669,\n",
       "   'TWN': 271845158.38367134,\n",
       "   'JPN': 1852033959.6464958,\n",
       "   'CHN': 1452396544.1683815,\n",
       "   'MEX': 3661801933.0921197},\n",
       "  2: {'USA': 7906306468.427833,\n",
       "   'TWN': 0.0,\n",
       "   'JPN': 489304284.4049791,\n",
       "   'CHN': 0.0,\n",
       "   'MEX': 0.0},\n",
       "  3: {'USA': 18528751.866413046,\n",
       "   'TWN': 0.0,\n",
       "   'JPN': 344452704.6426222,\n",
       "   'CHN': 0.0,\n",
       "   'MEX': 0.0},\n",
       "  4: {'USA': 1068230868.3723637,\n",
       "   'TWN': 609581285.6157476,\n",
       "   'JPN': 439258833.08002436,\n",
       "   'CHN': 505326469.68075377,\n",
       "   'MEX': 0.0},\n",
       "  5: {'USA': 1700628943.9928164,\n",
       "   'TWN': 0.0,\n",
       "   'JPN': 4552701246.37023,\n",
       "   'CHN': 1306007047.7022767,\n",
       "   'MEX': 0.0}},\n",
       " {1: 5, 2: 2, 3: 1, 4: 4, 5: 3},\n",
       " 7046794846.994061)"
      ]
     },
     "execution_count": 62,
     "metadata": {},
     "output_type": "execute_result"
    }
   ],
   "source": [
    "picked_yearset"
   ]
  },
  {
   "cell_type": "code",
   "execution_count": 61,
   "id": "a7f400b0",
   "metadata": {},
   "outputs": [
    {
     "ename": "AttributeError",
     "evalue": "'tuple' object has no attribute 'tag'",
     "output_type": "error",
     "traceback": [
      "\u001b[0;31m---------------------------------------------------------------------------\u001b[0m",
      "\u001b[0;31mAttributeError\u001b[0m                            Traceback (most recent call last)",
      "Cell \u001b[0;32mIn[61], line 2\u001b[0m\n\u001b[1;32m      1\u001b[0m picked_yearset \u001b[38;5;241m=\u001b[39m yearsets_samples[np\u001b[38;5;241m.\u001b[39margsort(aai)[\u001b[38;5;241m0\u001b[39m]]\n\u001b[0;32m----> 2\u001b[0m \u001b[43mpicked_yearset\u001b[49m\u001b[38;5;241;43m.\u001b[39;49m\u001b[43mtag\u001b[49m \u001b[38;5;241m=\u001b[39m direct_impact_wp\u001b[38;5;241m.\u001b[39mtag \u001b[38;5;66;03m#we miss the tag if we want to save it\u001b[39;00m\n\u001b[1;32m      5\u001b[0m \u001b[38;5;66;03m#yearsets_samples[17][0].write_csv(\"yearset_wp_na_combined.csv\") #to save\u001b[39;00m\n",
      "\u001b[0;31mAttributeError\u001b[0m: 'tuple' object has no attribute 'tag'"
     ]
    }
   ],
   "source": [
    "picked_yearset = yearsets_samples[np.argsort(aai)[0]]\n",
    "picked_yearset.tag = direct_impact_wp.tag #we miss the tag if we want to save it\n",
    "\n",
    "\n",
    "#yearsets_samples[17][0].write_csv(\"yearset_wp_na_combined.csv\") #to save"
   ]
  },
  {
   "cell_type": "code",
   "execution_count": null,
   "id": "71d49e37",
   "metadata": {},
   "outputs": [],
   "source": []
  }
 ],
 "metadata": {
  "kernelspec": {
   "display_name": "Python 3 (ipykernel)",
   "language": "python",
   "name": "python3"
  },
  "language_info": {
   "codemirror_mode": {
    "name": "ipython",
    "version": 3
   },
   "file_extension": ".py",
   "mimetype": "text/x-python",
   "name": "python",
   "nbconvert_exporter": "python",
   "pygments_lexer": "ipython3",
   "version": "3.9.16"
  }
 },
 "nbformat": 4,
 "nbformat_minor": 5
}
