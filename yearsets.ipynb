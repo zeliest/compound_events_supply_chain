{
 "cells": [
  {
   "cell_type": "code",
   "execution_count": 1,
   "id": "1ab5ecd9",
   "metadata": {},
   "outputs": [],
   "source": [
    "from climada.util.api_client import Client\n",
    "from climada_petals.engine import SupplyChain\n",
    "from climada.entity import ImpfSetTropCyclone, ImpactFuncSet\n",
    "from climada.engine.impact_calc import ImpactCalc\n",
    "from climada.hazard import Hazard\n",
    "import datetime\n",
    "import numpy as np\n",
    "client = Client()"
   ]
  },
  {
   "cell_type": "markdown",
   "id": "bcf8952f-3e11-4459-ab30-adcd87cb2ee1",
   "metadata": {},
   "source": [
    "# calculate impacts"
   ]
  },
  {
   "cell_type": "code",
   "execution_count": 2,
   "id": "794fef41",
   "metadata": {},
   "outputs": [],
   "source": [
    "# we get probabilistic tc for WP and NA\n",
    "tc_wp_prob = client.get_hazard('tropical_cyclone', name='tropical_cyclone_10synth_tracks_150arcsec_genesis_WP_1980_2020')\n",
    "tc_na_prob = client.get_hazard('tropical_cyclone', name='tropical_cyclone_10synth_tracks_150arcsec_genesis_NA_1980_2020')"
   ]
  },
  {
   "cell_type": "code",
   "execution_count": 3,
   "id": "fb8208e3",
   "metadata": {},
   "outputs": [
    {
     "name": "stderr",
     "output_type": "stream",
     "text": [
      "/Users/szelie/miniconda3/envs/climada_env/lib/python3.9/pickle.py:1717: UserWarning: Unpickling a shapely <2.0 geometry object. Please save the pickle again; shapely 2.1 will not have this compatibility.\n",
      "  setstate(state)\n"
     ]
    }
   ],
   "source": [
    "assets = client.get_litpop()"
   ]
  },
  {
   "cell_type": "code",
   "execution_count": null,
   "id": "32913460-fa2f-4c0e-b372-4520ad82cb07",
   "metadata": {},
   "outputs": [],
   "source": []
  },
  {
   "cell_type": "code",
   "execution_count": 4,
   "id": "e5808dd7",
   "metadata": {},
   "outputs": [
    {
     "name": "stdout",
     "output_type": "stream",
     "text": [
      "2023-06-21 23:06:22,742 - climada.util.coordinates - WARNING - Distance to closest centroid is greater than 100km for 6368468 coordinates.\n",
      "2023-06-21 23:06:43,642 - climada.util.coordinates - WARNING - Distance to closest centroid is greater than 100km for 7549716 coordinates.\n",
      "2023-06-21 23:06:44,026 - climada.util.coordinates - WARNING - Distance to closest centroid is greater than 100km for 7249 coordinates.\n"
     ]
    }
   ],
   "source": [
    "def get_impf_id(cnt):\n",
    "    for basin, iso_list in ImpfSetTropCyclone.get_countries_per_region()[2].items():\n",
    "        for iso in iso_list:\n",
    "            if iso == cnt:\n",
    "                return basin, ImpfSetTropCyclone.get_countries_per_region()[1][basin]\n",
    "            \n",
    "impf_TC = ImpfSetTropCyclone.from_calibrated_regional_ImpfSet()\n",
    "\n",
    "assets.gdf['impf_TC'] = 1\n",
    "\n",
    "for cnt in np.unique(assets.gdf.region_id):\n",
    "    assets.gdf.loc[assets.gdf['region_id']==cnt, 'impf_TC'] = get_impf_id(int(cnt))[1]\n",
    "\n",
    "# impact calculation, already selecting the date\n",
    "imp_calc = ImpactCalc(assets, impf_TC, tc_na_prob)\n",
    "direct_impact_na = imp_calc.impact(save_mat=True)  \n",
    "\n",
    "imp_calc = ImpactCalc(assets, impf_TC, tc_wp_prob)\n",
    "direct_impact_wp = imp_calc.impact(save_mat=True) "
   ]
  },
  {
   "cell_type": "markdown",
   "id": "f095bb6b-3e09-4709-8f3e-6d4cc40b40d9",
   "metadata": {},
   "source": [
    "#  We here recreate years of impacts by sampling a number of impact per year based on a poisson distribution. The day and month of the event are kept, we could consider changing those but it requires some assumptions. "
   ]
  },
  {
   "cell_type": "code",
   "execution_count": 73,
   "id": "7c54f830-23d4-4c17-9a06-d5ef56e65d5d",
   "metadata": {},
   "outputs": [],
   "source": [
    "import climada.util.dates_times as u_dt\n",
    "\n",
    "def year_date_event_in_sample(years, dates, sampling_vec):\n",
    "    \"\"\"\n",
    "    Change the year for the sampled events\n",
    "\n",
    "    Parameters\n",
    "    ----------\n",
    "    years : list[int]\n",
    "        Years of sampled events (length equal to lenght of sampling_vec)\n",
    "    dates : list[dates]\n",
    "        List of dates in ordinal format for the whole event set\n",
    "    sampling_vec : list[np.array]\n",
    "        Array of ids (row index) of selected events per year.\n",
    "\n",
    "    Raises\n",
    "    ------\n",
    "    ValueError\n",
    "        length of years must equal length of sampling_vec\n",
    "\n",
    "    Returns\n",
    "    -------\n",
    "    list[dates]\n",
    "        List with dates in ordinal format of the sampled events.\n",
    "\n",
    "    \"\"\"\n",
    "    if len(years) != len(sampling_vec):\n",
    "        raise ValueError(\"The number of years is different from the length\" +\n",
    "                         \"of the sampling vector\")\n",
    "    def change_year(old_date, year):\n",
    "        old_date = u_dt.date_to_str(old_date)\n",
    "        if old_date[5:7] == '02' and old_date[8:10] == '29':\n",
    "            old_date = old_date.replace('29', '28')\n",
    "        new_date = old_date.replace(old_date[0:4], str(year))\n",
    "        return u_dt.str_to_date(new_date)\n",
    "\n",
    "    return [\n",
    "        change_year(date, year)\n",
    "        for year, events in zip(years, sampling_vec)\n",
    "        for date in np.array(dates)[events]\n",
    "        ]"
   ]
  },
  {
   "cell_type": "code",
   "execution_count": 71,
   "id": "104bcc55",
   "metadata": {},
   "outputs": [],
   "source": [
    "from climada.util import yearsets\n",
    "def make_yearset(impact_dict, n_years):\n",
    "    \"\"\"\n",
    "    Parameters\n",
    "    ----------\n",
    "    impact_dict : dict of Impact\n",
    "        dictionary of impacts\n",
    "    n_years : number of years\n",
    "\n",
    "    Returns\n",
    "    -------\n",
    "    imp : dict\n",
    "        \n",
    "    \"\"\"\n",
    "    years = np.arange(1, n_years+1)\n",
    "    yearset_dict = {}\n",
    "    for impact in impact_dict: # we do this per basin as the frequencies are different\n",
    "        lam = np.sum(impact_dict[impact].frequency)\n",
    "        lam = np.round(lam, 10) \n",
    "        events_per_year = yearsets.sample_from_poisson(len(years), lam) # number of events to pick for each year\n",
    "        sampling_vect = yearsets.sample_events(events_per_year, impact_dict[impact].frequency) # vector containing the the event id per year\n",
    "        yearset = copy.deepcopy(impact_dict[impact]) # new impact object\n",
    "        yearset.date = year_date_event_in_sample(years,impact_dict[impact].date,sampling_vect)\n",
    "        sampling_vect = np.concatenate(sampling_vect)\n",
    "        yearset.event_name = list(np.array(impact_dict[impact].event_name)[sampling_vect])\n",
    "        yearset.at_event = impact_dict[impact].at_event[sampling_vect]\n",
    "        yearset.event_id = np.arange(1, len(yearset.event_name)+1)\n",
    "        yearset.frequency = np.ones(len(yearset.event_id))/n_years\n",
    "\n",
    "        yearset.imp_mat = impact_dict[impact].imp_mat[sampling_vect, :]\n",
    "        yearset_dict[impact] = yearset\n",
    "    return yearset_dict"
   ]
  },
  {
   "cell_type": "code",
   "execution_count": 74,
   "id": "c70aabd7",
   "metadata": {},
   "outputs": [],
   "source": [
    "from climada.util import yearsets, coordinates\n",
    "import pycountry\n",
    "\n",
    "# create n years of impacts by sampling events based on the expected number of events. This is\n",
    "# done per basin\n",
    "def yearset_impact(direct_impact_wp, direct_impact_na, countries_num, n_years):\n",
    "    \n",
    "    impact_dict = {'wp':direct_impact_wp, 'na':direct_impact_na}\n",
    "    ys = make_yearset(impact_dict, n_years) # we get n_years for each basin separatly\n",
    "    imp = Impact()\n",
    "    imp.frequency = np.hstack([ys['wp'].frequency, ys['na'].frequency])\n",
    "    imp.date = np.hstack([ys['wp'].date, ys['na'].date])\n",
    "    imp.event_name = np.hstack([ys['wp'].event_name, ys['na'].event_name])\n",
    "\n",
    "    imp.event_id = np.hstack([ys['wp'].event_id, (ys['na'].event_id+np.max(ys['wp'].event_id))])\n",
    "    imp.coord_exp = direct_impact_wp.coord_exp\n",
    "    imp.imp_mat = sparse.vstack([ys['wp'].imp_mat,ys['na'].imp_mat])\n",
    "\n",
    "    \n",
    "    imp.at_event, imp.eai_exp, imp.aai_agg = ImpactCalc.risk_metrics(imp.imp_mat, imp.frequency)\n",
    "    imp = imp.select(event_ids = imp.event_id[imp.at_event>1e8])\n",
    "    imp.tag = impact_dict['wp'].tag\n",
    "    country_matrices = {country: np.array([imp.imp_mat[:, countries_num == countries[country]].sum(axis=1).flatten()])\n",
    "                     for country in countries}\n",
    "    \n",
    "    years = [datetime.date.fromordinal(date).year for date in imp.date]\n",
    "    country_year_impact = {year: {country: country_matrices[country][0][0][years==year].sum()\\\n",
    "                              for country in countries} for year in np.unique(years)}\n",
    "  \n",
    "    n_countries_per_year = {year:np.sum([np.array(list(country_year_impact[year].values()))>1e8]) for year in years}\n",
    "    \n",
    "\n",
    "    return (imp, country_year_impact, n_countries_per_year, imp.aai_agg)\n",
    "\n"
   ]
  },
  {
   "cell_type": "code",
   "execution_count": 7,
   "id": "a5f5ba63",
   "metadata": {},
   "outputs": [],
   "source": [
    "from climada.util import yearsets, coordinates\n",
    "lat = np.array([lat for lat,lon in direct_impact_wp.coord_exp])\n",
    "lon = np.array([lon for lat,lon in direct_impact_wp.coord_exp])\n",
    "countries_num = coordinates.get_country_code(lat, lon)\n",
    "countries_num = np.array([format(num, '03d') for num in countries_num])\n"
   ]
  },
  {
   "cell_type": "code",
   "execution_count": null,
   "id": "8719e36f",
   "metadata": {
    "scrolled": true
   },
   "outputs": [],
   "source": [
    "from scipy import sparse\n",
    "from climada.engine import Impact\n",
    "import copy\n",
    "countries = ['USA', 'TWN', 'JPN','CHN','MEX'] # we could chose more countries\n",
    "countries = {country:pycountry.countries.lookup(country).numeric for country in countries}\n",
    "\n",
    "# 100 time 5 years, date start at year 1\n",
    "yearsets_samples = [yearset_impact(direct_impact_wp, direct_impact_na, countries_num, n_years=5) for n in range(0,100)]"
   ]
  },
  {
   "cell_type": "markdown",
   "id": "e2b73b9b-826d-47e1-8800-14a8088ee655",
   "metadata": {},
   "source": [
    "# The following cells are to select samples that cause most impacts/affect most countries. We can ignore it for now\n"
   ]
  },
  {
   "cell_type": "code",
   "execution_count": 84,
   "id": "a3d012b8",
   "metadata": {},
   "outputs": [],
   "source": [
    "n_countries_score = [np.sum(list(yearsets_samples[n][2].values())) for n in range(len(yearsets_samples))]\n",
    "\n",
    "aai = [yearsets_samples[n][3] for n in range(len(yearsets_samples))]"
   ]
  },
  {
   "cell_type": "code",
   "execution_count": 86,
   "id": "e2996b2f",
   "metadata": {},
   "outputs": [],
   "source": [
    "#5 years with most damages:\n",
    "picked_yearset1 = yearsets_samples[np.argsort(aai)[0]][0]\n",
    "picked_yearset1.tag = direct_impact_wp.tag #we miss the tag if we want to save it\n",
    "\n",
    "#5 years with most countries affected:\n",
    "\n",
    "picked_yearset2 = yearsets_samples[np.argsort(n_countries_score)[0]][0]\n",
    "picked_yearset2.tag = direct_impact_wp.tag #we miss the tag if we want to save it\n",
    "#yearsets_samples[17][0].write_csv(\"yearset_wp_na_combined.csv\") #to save"
   ]
  },
  {
   "cell_type": "code",
   "execution_count": 88,
   "id": "81a8d4c3",
   "metadata": {},
   "outputs": [
    {
     "data": {
      "text/plain": [
       "<matplotlib.lines.Line2D at 0x1dbc14a60>"
      ]
     },
     "execution_count": 88,
     "metadata": {},
     "output_type": "execute_result"
    },
    {
     "data": {
      "image/png": "[encoded data removed]",
      "text/plain": [
       "<Figure size 640x480 with 1 Axes>"
      ]
     },
     "metadata": {},
     "output_type": "display_data"
    },
    {
     "data": {
      "image/png": "[encoded data removed]",
      "text/plain": [
       "<Figure size 640x480 with 1 Axes>"
      ]
     },
     "metadata": {},
     "output_type": "display_data"
    }
   ],
   "source": [
    "import matplotlib.pyplot as plt\n",
    "fig,ax = plt.subplots()\n",
    "ax.hist(aai)\n",
    "plt.axvline(x=np.max(aai), color='red', linestyle='--')# yearset with most total damage\n",
    "\n",
    "plt.axvline(x=aai[np.argsort(n_countries_score)[0]], color='purple', linestyle='--') # yearset with most countries affected\n",
    "\n",
    "fig,ax = plt.subplots()\n",
    "\n",
    "ax.hist(n_countries_score)\n",
    "plt.axvline(x=n_countries_score[np.argsort(aai)[0]], color='red', linestyle='--') \n",
    "plt.axvline(x=np.max(n_countries_score), color='purple', linestyle='--')# yearset with most total damage\n"
   ]
  },
  {
   "cell_type": "markdown",
   "id": "0bb95822-95c1-40c3-96c9-dde037651a5f",
   "metadata": {},
   "source": [
    "# save and read impact files, we save 10 samples of 5 years"
   ]
  },
  {
   "cell_type": "code",
   "execution_count": 62,
   "id": "ff14549d-2fb9-46a0-a222-4bb0942be702",
   "metadata": {},
   "outputs": [
    {
     "name": "stdout",
     "output_type": "stream",
     "text": [
      "2023-06-22 12:24:54,540 - climada.engine.impact - WARNING - The Impact.tot_value attribute is deprecated.Use Exposures.affected_total_value to calculate the affected total exposure value based on a specific hazard intensity threshold\n",
      "2023-06-22 12:25:03,338 - climada.engine.impact - WARNING - The Impact.tot_value attribute is deprecated.Use Exposures.affected_total_value to calculate the affected total exposure value based on a specific hazard intensity threshold\n",
      "2023-06-22 12:25:12,258 - climada.engine.impact - WARNING - The Impact.tot_value attribute is deprecated.Use Exposures.affected_total_value to calculate the affected total exposure value based on a specific hazard intensity threshold\n",
      "2023-06-22 12:25:21,395 - climada.engine.impact - WARNING - The Impact.tot_value attribute is deprecated.Use Exposures.affected_total_value to calculate the affected total exposure value based on a specific hazard intensity threshold\n",
      "2023-06-22 12:25:30,110 - climada.engine.impact - WARNING - The Impact.tot_value attribute is deprecated.Use Exposures.affected_total_value to calculate the affected total exposure value based on a specific hazard intensity threshold\n",
      "2023-06-22 12:25:38,776 - climada.engine.impact - WARNING - The Impact.tot_value attribute is deprecated.Use Exposures.affected_total_value to calculate the affected total exposure value based on a specific hazard intensity threshold\n",
      "2023-06-22 12:25:47,532 - climada.engine.impact - WARNING - The Impact.tot_value attribute is deprecated.Use Exposures.affected_total_value to calculate the affected total exposure value based on a specific hazard intensity threshold\n",
      "2023-06-22 12:25:56,260 - climada.engine.impact - WARNING - The Impact.tot_value attribute is deprecated.Use Exposures.affected_total_value to calculate the affected total exposure value based on a specific hazard intensity threshold\n",
      "2023-06-22 12:26:05,091 - climada.engine.impact - WARNING - The Impact.tot_value attribute is deprecated.Use Exposures.affected_total_value to calculate the affected total exposure value based on a specific hazard intensity threshold\n",
      "2023-06-22 12:26:13,797 - climada.engine.impact - WARNING - The Impact.tot_value attribute is deprecated.Use Exposures.affected_total_value to calculate the affected total exposure value based on a specific hazard intensity threshold\n"
     ]
    }
   ],
   "source": [
    "import os\n",
    "\n",
    "output_directory = \"/Users/szelie/Library/CloudStorage/OneDrive-ETHZurich/data/supply_chain/direct_impacts_yearsets/\"\n",
    "\n",
    "for n, sample in enumerate(yearsets_samples[0:10]):\n",
    "    sample_red = sample[0].select(coord_exp=sample[0].coord_exp[sample[0].eai_exp>0])\n",
    "    sample_red = sample_red.select(event_ids=sample_red.event_id[sample_red.at_event>1e6])\n",
    "    output_csv_path = os.path.join(output_directory, f\"sample_{n}_5y_impact_na_wp.csv\")\n",
    "    output_npz_path = os.path.join(output_directory, f\"sample_{n}_5y_impact_na_wp.npz\")\n",
    "    sample_red.write_csv(output_csv_path)\n",
    "    sample_red.write_sparse_csr(output_npz_path)"
   ]
  },
  {
   "cell_type": "code",
   "execution_count": 89,
   "id": "06b0d84f-2ebb-46a4-94ab-b91492478424",
   "metadata": {
    "scrolled": true
   },
   "outputs": [
    {
     "name": "stdout",
     "output_type": "stream",
     "text": [
      "2023-06-22 15:23:08,463 - climada.engine.impact - WARNING - The Impact.tot_value attribute is deprecated.Use Exposures.affected_total_value to calculate the affected total exposure value based on a specific hazard intensity threshold\n",
      "2023-06-22 15:23:08,608 - climada.engine.impact - WARNING - The Impact.tot_value attribute is deprecated.Use Exposures.affected_total_value to calculate the affected total exposure value based on a specific hazard intensity threshold\n"
     ]
    },
    {
     "name": "stderr",
     "output_type": "stream",
     "text": [
      "/Users/szelie/python_projects/climada_python/climada/engine/impact.py:1102: DtypeWarning: Columns (0,1,2,7,10,15) have mixed types. Specify dtype option on import or set low_memory=False.\n",
      "  imp_df = pd.read_csv(file_name)\n",
      "/Users/szelie/python_projects/climada_python/climada/engine/impact.py:1102: DtypeWarning: Columns (0,1,2,7,10,15) have mixed types. Specify dtype option on import or set low_memory=False.\n",
      "  imp_df = pd.read_csv(file_name)\n"
     ]
    },
    {
     "name": "stdout",
     "output_type": "stream",
     "text": [
      "2023-06-22 15:23:08,702 - climada.engine.impact - WARNING - The Impact.tot_value attribute is deprecated.Use Exposures.affected_total_value to calculate the affected total exposure value based on a specific hazard intensity threshold\n",
      "2023-06-22 15:23:08,773 - climada.engine.impact - WARNING - The Impact.tot_value attribute is deprecated.Use Exposures.affected_total_value to calculate the affected total exposure value based on a specific hazard intensity threshold\n",
      "2023-06-22 15:23:08,865 - climada.engine.impact - WARNING - The Impact.tot_value attribute is deprecated.Use Exposures.affected_total_value to calculate the affected total exposure value based on a specific hazard intensity threshold\n"
     ]
    },
    {
     "name": "stderr",
     "output_type": "stream",
     "text": [
      "/Users/szelie/python_projects/climada_python/climada/engine/impact.py:1102: DtypeWarning: Columns (0,1,2,7,10,15) have mixed types. Specify dtype option on import or set low_memory=False.\n",
      "  imp_df = pd.read_csv(file_name)\n",
      "/Users/szelie/python_projects/climada_python/climada/engine/impact.py:1102: DtypeWarning: Columns (0,1,2,7,10,15) have mixed types. Specify dtype option on import or set low_memory=False.\n",
      "  imp_df = pd.read_csv(file_name)\n",
      "/Users/szelie/python_projects/climada_python/climada/engine/impact.py:1102: DtypeWarning: Columns (0,1,2,7,10,15) have mixed types. Specify dtype option on import or set low_memory=False.\n",
      "  imp_df = pd.read_csv(file_name)\n"
     ]
    },
    {
     "name": "stdout",
     "output_type": "stream",
     "text": [
      "2023-06-22 15:23:08,960 - climada.engine.impact - WARNING - The Impact.tot_value attribute is deprecated.Use Exposures.affected_total_value to calculate the affected total exposure value based on a specific hazard intensity threshold\n",
      "2023-06-22 15:23:09,030 - climada.engine.impact - WARNING - The Impact.tot_value attribute is deprecated.Use Exposures.affected_total_value to calculate the affected total exposure value based on a specific hazard intensity threshold\n",
      "2023-06-22 15:23:09,102 - climada.engine.impact - WARNING - The Impact.tot_value attribute is deprecated.Use Exposures.affected_total_value to calculate the affected total exposure value based on a specific hazard intensity threshold\n"
     ]
    },
    {
     "name": "stderr",
     "output_type": "stream",
     "text": [
      "/Users/szelie/python_projects/climada_python/climada/engine/impact.py:1102: DtypeWarning: Columns (0,1,2,7,10,15) have mixed types. Specify dtype option on import or set low_memory=False.\n",
      "  imp_df = pd.read_csv(file_name)\n",
      "/Users/szelie/python_projects/climada_python/climada/engine/impact.py:1102: DtypeWarning: Columns (0,1,2,7,10,15) have mixed types. Specify dtype option on import or set low_memory=False.\n",
      "  imp_df = pd.read_csv(file_name)\n",
      "/Users/szelie/python_projects/climada_python/climada/engine/impact.py:1102: DtypeWarning: Columns (0,1,2,7,10,15) have mixed types. Specify dtype option on import or set low_memory=False.\n",
      "  imp_df = pd.read_csv(file_name)\n"
     ]
    },
    {
     "name": "stdout",
     "output_type": "stream",
     "text": [
      "2023-06-22 15:23:09,182 - climada.engine.impact - WARNING - The Impact.tot_value attribute is deprecated.Use Exposures.affected_total_value to calculate the affected total exposure value based on a specific hazard intensity threshold\n",
      "2023-06-22 15:23:09,289 - climada.engine.impact - WARNING - The Impact.tot_value attribute is deprecated.Use Exposures.affected_total_value to calculate the affected total exposure value based on a specific hazard intensity threshold\n"
     ]
    },
    {
     "name": "stderr",
     "output_type": "stream",
     "text": [
      "/Users/szelie/python_projects/climada_python/climada/engine/impact.py:1102: DtypeWarning: Columns (0,1,2,7,10,15) have mixed types. Specify dtype option on import or set low_memory=False.\n",
      "  imp_df = pd.read_csv(file_name)\n",
      "/Users/szelie/python_projects/climada_python/climada/engine/impact.py:1102: DtypeWarning: Columns (0,1,2,7,10,15) have mixed types. Specify dtype option on import or set low_memory=False.\n",
      "  imp_df = pd.read_csv(file_name)\n"
     ]
    }
   ],
   "source": [
    "import os\n",
    "import pandas as pd\n",
    "from scipy.sparse import csr_matrix\n",
    "\n",
    "input_directory = \"/Users/szelie/Library/CloudStorage/OneDrive-ETHZurich/data/supply_chain/direct_impacts_yearsets/\"\n",
    "\n",
    "# Create an empty list to store the Impact objects\n",
    "impacts = []\n",
    "\n",
    "# Loop through the CSV files in the input directory\n",
    "for n in range(10):\n",
    "    input_csv_path = os.path.join(input_directory, f\"sample_{n}_5y_impact_na_wp.csv\")\n",
    "    \n",
    "    impact = Impact.from_csv(input_csv_path)\n",
    "    \n",
    "    # Read the sparse CSR matrix from a file\n",
    "    sparse_csr_path = os.path.join(input_directory, f\"sample_{n}_5y_impact_na_wp.npz\")\n",
    "    impact.imp_mat = Impact.read_sparse_csr(sparse_csr_path)\n",
    "    \n",
    "    # Append the Impact object to the list\n",
    "    impacts.append(impact)"
   ]
  }
 ],
 "metadata": {
  "kernelspec": {
   "display_name": "Python 3 (ipykernel)",
   "language": "python",
   "name": "python3"
  },
  "language_info": {
   "codemirror_mode": {
    "name": "ipython",
    "version": 3
   },
   "file_extension": ".py",
   "mimetype": "text/x-python",
   "name": "python",
   "nbconvert_exporter": "python",
   "pygments_lexer": "ipython3",
   "version": "3.9.16"
  }
 },
 "nbformat": 4,
 "nbformat_minor": 5
}
